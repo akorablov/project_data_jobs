{
 "cells": [
  {
   "cell_type": "code",
   "execution_count": 2,
   "id": "882e9492",
   "metadata": {},
   "outputs": [],
   "source": [
    "#importing libraries\n",
    "import pandas as pd\n",
    "import seaborn as sns\n",
    "from datasets import load_dataset\n",
    "import matplotlib.pyplot as plt\n",
    "import ast\n",
    "\n",
    "#loading data\n",
    "dataset = load_dataset(\"lukebarousse/data_jobs\")\n",
    "df = dataset['train'].to_pandas()\n",
    "\n",
    "#data cleaning\n",
    "df['job_posted_date'] = pd.to_datetime(df['job_posted_date'])\n",
    "df['job_skills'] = df['job_skills'].apply(lambda x: ast.literal_eval(x) if pd.notna(x) else x)"
   ]
  },
  {
   "cell_type": "code",
   "execution_count": 3,
   "id": "35240ca0",
   "metadata": {},
   "outputs": [],
   "source": [
    "df_DA_US = df[(df['job_title_short']=='Data Analyst')&(df['job_country']=='United States')].copy()"
   ]
  },
  {
   "cell_type": "code",
   "execution_count": 4,
   "id": "e22c62be",
   "metadata": {},
   "outputs": [],
   "source": [
    "df_DA_US['job_posted_month_no'] = df_DA_US['job_posted_date'].dt.month"
   ]
  },
  {
   "cell_type": "code",
   "execution_count": 6,
   "id": "75177c88",
   "metadata": {},
   "outputs": [],
   "source": [
    "df_DA_US_explode = df_DA_US.explode('job_skills')"
   ]
  },
  {
   "cell_type": "code",
   "execution_count": 11,
   "id": "bd7b380c",
   "metadata": {},
   "outputs": [],
   "source": [
    "df_DA_US_pivot = df_DA_US_explode.pivot_table(index='job_posted_month_no', columns='job_skills', aggfunc='size', fill_value=0)\n",
    "\n",
    "df_DA_US_pivot.loc['Total'] = df_DA_US_pivot.sum()\n",
    "\n",
    "df_DA_US_pivot = df_DA_US_pivot[df_DA_US_pivot.loc['Total'].sort_values(ascending=False).index]\n",
    "\n",
    "df_DA_US_pivot = df_DA_US_pivot.drop('Total')"
   ]
  },
  {
   "cell_type": "code",
   "execution_count": null,
   "id": "d8fe2d1a",
   "metadata": {},
   "outputs": [],
   "source": []
  }
 ],
 "metadata": {
  "kernelspec": {
   "display_name": "course",
   "language": "python",
   "name": "python3"
  },
  "language_info": {
   "codemirror_mode": {
    "name": "ipython",
    "version": 3
   },
   "file_extension": ".py",
   "mimetype": "text/x-python",
   "name": "python",
   "nbconvert_exporter": "python",
   "pygments_lexer": "ipython3",
   "version": "3.12.11"
  }
 },
 "nbformat": 4,
 "nbformat_minor": 5
}
